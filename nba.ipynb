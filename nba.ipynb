{
 "cells": [
  {
   "cell_type": "code",
   "execution_count": 1,
   "id": "14b6af42-8ae4-4bde-af1e-f64d64975b1e",
   "metadata": {},
   "outputs": [],
   "source": [
    "import numpy as np\n",
    "import pandas as pd\n",
    "import matplotlib.pyplot as plt\n",
    "import seaborn as sns\n",
    "import plotly.express as px\n",
    "import plotly.graph_objects as go\n",
    "import pandas as pd\n",
    "from ipywidgets import interact, FloatSlider\n",
    "from sklearn.preprocessing import MinMaxScaler\n",
    "from ipywidgets import interact, Dropdown\n",
    "from sklearn.model_selection import train_test_split\n",
    "from sklearn.linear_model import LinearRegression\n",
    "from sklearn.metrics import mean_squared_error, r2_score\n",
    "\n"
   ]
  },
  {
   "cell_type": "code",
   "execution_count": 2,
   "id": "0c62b65e-bd5c-45b1-b341-c8b9c7d1f0c1",
   "metadata": {},
   "outputs": [],
   "source": [
    "df = pd.read_csv('nba.csv',sep =\";\", encoding='latin-1')\n",
    "\n"
   ]
  },
  {
   "cell_type": "code",
   "execution_count": 3,
   "id": "b16e2063-6348-4f31-a4f6-4af2d8d550ef",
   "metadata": {},
   "outputs": [
    {
     "data": {
      "text/plain": [
       "(483, 30)"
      ]
     },
     "execution_count": 3,
     "metadata": {},
     "output_type": "execute_result"
    }
   ],
   "source": [
    "df.shape"
   ]
  },
  {
   "cell_type": "code",
   "execution_count": 4,
   "id": "28c7c894-bbb4-4e07-80ae-ce6c0a022cf7",
   "metadata": {},
   "outputs": [
    {
     "data": {
      "text/plain": [
       "Index(['Rk', 'Player', 'Pos', 'Age', 'Tm', 'G', 'GS', 'MP', 'FG', 'FGA', 'FG%',\n",
       "       '3P', '3PA', '3P%', '2P', '2PA', '2P%', 'eFG%', 'FT', 'FTA', 'FT%',\n",
       "       'ORB', 'DRB', 'TRB', 'AST', 'STL', 'BLK', 'TOV', 'PF', 'PTS'],\n",
       "      dtype='object')"
      ]
     },
     "execution_count": 4,
     "metadata": {},
     "output_type": "execute_result"
    }
   ],
   "source": [
    "df.columns"
   ]
  },
  {
   "cell_type": "code",
   "execution_count": 5,
   "id": "4e245405-cc9d-4445-9446-1029d81a406b",
   "metadata": {},
   "outputs": [
    {
     "data": {
      "text/plain": [
       "Rk          int64\n",
       "Player     object\n",
       "Pos        object\n",
       "Age         int64\n",
       "Tm         object\n",
       "G           int64\n",
       "GS          int64\n",
       "MP        float64\n",
       "FG        float64\n",
       "FGA       float64\n",
       "FG%       float64\n",
       "3P        float64\n",
       "3PA       float64\n",
       "3P%       float64\n",
       "2P        float64\n",
       "2PA       float64\n",
       "2P%       float64\n",
       "eFG%      float64\n",
       "FT        float64\n",
       "FTA       float64\n",
       "FT%       float64\n",
       "ORB       float64\n",
       "DRB       float64\n",
       "TRB       float64\n",
       "AST       float64\n",
       "STL       float64\n",
       "BLK       float64\n",
       "TOV       float64\n",
       "PF        float64\n",
       "PTS       float64\n",
       "dtype: object"
      ]
     },
     "execution_count": 5,
     "metadata": {},
     "output_type": "execute_result"
    }
   ],
   "source": [
    "df.dtypes"
   ]
  },
  {
   "cell_type": "code",
   "execution_count": 6,
   "id": "af40929a-0fb5-4d3f-bad7-c7f7b35d04bd",
   "metadata": {},
   "outputs": [
    {
     "name": "stdout",
     "output_type": "stream",
     "text": [
      "['C' 'SG' 'PF' 'PG' 'SF' 'SF-PF']\n",
      "['TOR' 'MIA' 'UTA' 'MEM' 'MIN' 'PHO' 'CLE' 'MIL' 'ORL' 'NYK' 'WAS' 'POR'\n",
      " 'DET' 'CHO' 'PHI' 'BOS' 'SAS' 'SAC' 'TOT' 'LAC' 'OKC' 'ATL' 'CHI' 'DEN'\n",
      " 'BRK' 'HOU' 'IND' 'LAL' 'DAL' 'GSW' 'NOP']\n"
     ]
    }
   ],
   "source": [
    "cat_vars = ['Pos', 'Tm']\n",
    "for i in cat_vars:\n",
    "    print(df[i].unique())"
   ]
  },
  {
   "cell_type": "code",
   "execution_count": 7,
   "id": "e128f5c7-c0fb-4f4e-9b02-3f12db2497ca",
   "metadata": {},
   "outputs": [
    {
     "name": "stdout",
     "output_type": "stream",
     "text": [
      "Column: Pos\n",
      "Pos\n",
      "SG       109\n",
      "SF       105\n",
      "PF        94\n",
      "C         92\n",
      "PG        82\n",
      "SF-PF      1\n",
      "Name: count, dtype: int64\n",
      "Column: Tm\n",
      "Tm\n",
      "OKC    18\n",
      "POR    18\n",
      "LAC    18\n",
      "PHI    18\n",
      "MIL    18\n",
      "SAC    17\n",
      "MIA    17\n",
      "HOU    17\n",
      "WAS    17\n",
      "ORL    16\n",
      "CLE    16\n",
      "PHO    16\n",
      "MEM    16\n",
      "DEN    16\n",
      "GSW    16\n",
      "NOP    16\n",
      "LAL    15\n",
      "ATL    15\n",
      "IND    15\n",
      "DAL    15\n",
      "BRK    15\n",
      "TOR    15\n",
      "SAS    15\n",
      "CHO    15\n",
      "DET    15\n",
      "NYK    15\n",
      "MIN    15\n",
      "UTA    15\n",
      "CHI    14\n",
      "BOS    13\n",
      "TOT     6\n",
      "Name: count, dtype: int64\n"
     ]
    }
   ],
   "source": [
    "for column in cat_vars:\n",
    "    if column in df.columns:  \n",
    "        value_counts = df[column].value_counts()\n",
    "        print(f\"Column: {column}\")\n",
    "        print(value_counts)"
   ]
  },
  {
   "cell_type": "code",
   "execution_count": 8,
   "id": "e35605f1-2aed-40c0-9ffc-92576dff16e1",
   "metadata": {},
   "outputs": [
    {
     "data": {
      "text/html": [
       "<div>\n",
       "<style scoped>\n",
       "    .dataframe tbody tr th:only-of-type {\n",
       "        vertical-align: middle;\n",
       "    }\n",
       "\n",
       "    .dataframe tbody tr th {\n",
       "        vertical-align: top;\n",
       "    }\n",
       "\n",
       "    .dataframe thead th {\n",
       "        text-align: right;\n",
       "    }\n",
       "</style>\n",
       "<table border=\"1\" class=\"dataframe\">\n",
       "  <thead>\n",
       "    <tr style=\"text-align: right;\">\n",
       "      <th></th>\n",
       "      <th>Rk</th>\n",
       "      <th>Player</th>\n",
       "      <th>Pos</th>\n",
       "      <th>Age</th>\n",
       "      <th>Tm</th>\n",
       "      <th>G</th>\n",
       "      <th>GS</th>\n",
       "      <th>MP</th>\n",
       "      <th>FG</th>\n",
       "      <th>FGA</th>\n",
       "      <th>...</th>\n",
       "      <th>FT%</th>\n",
       "      <th>ORB</th>\n",
       "      <th>DRB</th>\n",
       "      <th>TRB</th>\n",
       "      <th>AST</th>\n",
       "      <th>STL</th>\n",
       "      <th>BLK</th>\n",
       "      <th>TOV</th>\n",
       "      <th>PF</th>\n",
       "      <th>PTS</th>\n",
       "    </tr>\n",
       "  </thead>\n",
       "  <tbody>\n",
       "    <tr>\n",
       "      <th>0</th>\n",
       "      <td>1</td>\n",
       "      <td>Precious Achiuwa</td>\n",
       "      <td>C</td>\n",
       "      <td>24</td>\n",
       "      <td>TOR</td>\n",
       "      <td>7</td>\n",
       "      <td>0</td>\n",
       "      <td>20.7</td>\n",
       "      <td>3.0</td>\n",
       "      <td>6.9</td>\n",
       "      <td>...</td>\n",
       "      <td>0.857</td>\n",
       "      <td>1.7</td>\n",
       "      <td>4.9</td>\n",
       "      <td>6.6</td>\n",
       "      <td>1.6</td>\n",
       "      <td>0.4</td>\n",
       "      <td>0.4</td>\n",
       "      <td>1.4</td>\n",
       "      <td>2.0</td>\n",
       "      <td>7.1</td>\n",
       "    </tr>\n",
       "    <tr>\n",
       "      <th>1</th>\n",
       "      <td>2</td>\n",
       "      <td>Bam Adebayo</td>\n",
       "      <td>C</td>\n",
       "      <td>26</td>\n",
       "      <td>MIA</td>\n",
       "      <td>12</td>\n",
       "      <td>12</td>\n",
       "      <td>34.8</td>\n",
       "      <td>8.3</td>\n",
       "      <td>15.6</td>\n",
       "      <td>...</td>\n",
       "      <td>0.830</td>\n",
       "      <td>2.2</td>\n",
       "      <td>8.0</td>\n",
       "      <td>10.2</td>\n",
       "      <td>3.9</td>\n",
       "      <td>1.3</td>\n",
       "      <td>1.2</td>\n",
       "      <td>2.8</td>\n",
       "      <td>2.3</td>\n",
       "      <td>22.8</td>\n",
       "    </tr>\n",
       "    <tr>\n",
       "      <th>2</th>\n",
       "      <td>3</td>\n",
       "      <td>Ochai Agbaji</td>\n",
       "      <td>SG</td>\n",
       "      <td>23</td>\n",
       "      <td>UTA</td>\n",
       "      <td>12</td>\n",
       "      <td>4</td>\n",
       "      <td>17.8</td>\n",
       "      <td>1.8</td>\n",
       "      <td>4.3</td>\n",
       "      <td>...</td>\n",
       "      <td>0.500</td>\n",
       "      <td>0.9</td>\n",
       "      <td>2.0</td>\n",
       "      <td>2.9</td>\n",
       "      <td>0.9</td>\n",
       "      <td>0.3</td>\n",
       "      <td>0.8</td>\n",
       "      <td>0.6</td>\n",
       "      <td>1.4</td>\n",
       "      <td>4.8</td>\n",
       "    </tr>\n",
       "    <tr>\n",
       "      <th>3</th>\n",
       "      <td>4</td>\n",
       "      <td>Santi Aldama</td>\n",
       "      <td>PF</td>\n",
       "      <td>23</td>\n",
       "      <td>MEM</td>\n",
       "      <td>6</td>\n",
       "      <td>0</td>\n",
       "      <td>23.5</td>\n",
       "      <td>5.0</td>\n",
       "      <td>10.5</td>\n",
       "      <td>...</td>\n",
       "      <td>0.500</td>\n",
       "      <td>0.8</td>\n",
       "      <td>4.7</td>\n",
       "      <td>5.5</td>\n",
       "      <td>2.0</td>\n",
       "      <td>0.5</td>\n",
       "      <td>0.8</td>\n",
       "      <td>1.8</td>\n",
       "      <td>1.3</td>\n",
       "      <td>12.5</td>\n",
       "    </tr>\n",
       "    <tr>\n",
       "      <th>4</th>\n",
       "      <td>5</td>\n",
       "      <td>Nickeil Alexander-Walker</td>\n",
       "      <td>SG</td>\n",
       "      <td>25</td>\n",
       "      <td>MIN</td>\n",
       "      <td>12</td>\n",
       "      <td>2</td>\n",
       "      <td>19.7</td>\n",
       "      <td>2.1</td>\n",
       "      <td>5.0</td>\n",
       "      <td>...</td>\n",
       "      <td>0.333</td>\n",
       "      <td>0.1</td>\n",
       "      <td>1.7</td>\n",
       "      <td>1.8</td>\n",
       "      <td>2.4</td>\n",
       "      <td>0.8</td>\n",
       "      <td>0.8</td>\n",
       "      <td>1.0</td>\n",
       "      <td>1.5</td>\n",
       "      <td>5.4</td>\n",
       "    </tr>\n",
       "  </tbody>\n",
       "</table>\n",
       "<p>5 rows × 30 columns</p>\n",
       "</div>"
      ],
      "text/plain": [
       "   Rk                    Player Pos  Age   Tm   G  GS    MP   FG   FGA  ...  \\\n",
       "0   1          Precious Achiuwa   C   24  TOR   7   0  20.7  3.0   6.9  ...   \n",
       "1   2               Bam Adebayo   C   26  MIA  12  12  34.8  8.3  15.6  ...   \n",
       "2   3              Ochai Agbaji  SG   23  UTA  12   4  17.8  1.8   4.3  ...   \n",
       "3   4              Santi Aldama  PF   23  MEM   6   0  23.5  5.0  10.5  ...   \n",
       "4   5  Nickeil Alexander-Walker  SG   25  MIN  12   2  19.7  2.1   5.0  ...   \n",
       "\n",
       "     FT%  ORB  DRB   TRB  AST  STL  BLK  TOV   PF   PTS  \n",
       "0  0.857  1.7  4.9   6.6  1.6  0.4  0.4  1.4  2.0   7.1  \n",
       "1  0.830  2.2  8.0  10.2  3.9  1.3  1.2  2.8  2.3  22.8  \n",
       "2  0.500  0.9  2.0   2.9  0.9  0.3  0.8  0.6  1.4   4.8  \n",
       "3  0.500  0.8  4.7   5.5  2.0  0.5  0.8  1.8  1.3  12.5  \n",
       "4  0.333  0.1  1.7   1.8  2.4  0.8  0.8  1.0  1.5   5.4  \n",
       "\n",
       "[5 rows x 30 columns]"
      ]
     },
     "execution_count": 8,
     "metadata": {},
     "output_type": "execute_result"
    }
   ],
   "source": [
    "df.head()"
   ]
  },
  {
   "cell_type": "code",
   "execution_count": 9,
   "id": "77d04a28-8f76-4da7-b137-066df12c54dc",
   "metadata": {},
   "outputs": [
    {
     "data": {
      "text/html": [
       "<div>\n",
       "<style scoped>\n",
       "    .dataframe tbody tr th:only-of-type {\n",
       "        vertical-align: middle;\n",
       "    }\n",
       "\n",
       "    .dataframe tbody tr th {\n",
       "        vertical-align: top;\n",
       "    }\n",
       "\n",
       "    .dataframe thead th {\n",
       "        text-align: right;\n",
       "    }\n",
       "</style>\n",
       "<table border=\"1\" class=\"dataframe\">\n",
       "  <thead>\n",
       "    <tr style=\"text-align: right;\">\n",
       "      <th></th>\n",
       "      <th>Rk</th>\n",
       "      <th>Player</th>\n",
       "      <th>Pos</th>\n",
       "      <th>Age</th>\n",
       "      <th>Tm</th>\n",
       "      <th>G</th>\n",
       "      <th>GS</th>\n",
       "      <th>MP</th>\n",
       "      <th>FG</th>\n",
       "      <th>FGA</th>\n",
       "      <th>...</th>\n",
       "      <th>FT%</th>\n",
       "      <th>ORB</th>\n",
       "      <th>DRB</th>\n",
       "      <th>TRB</th>\n",
       "      <th>AST</th>\n",
       "      <th>STL</th>\n",
       "      <th>BLK</th>\n",
       "      <th>TOV</th>\n",
       "      <th>PF</th>\n",
       "      <th>PTS</th>\n",
       "    </tr>\n",
       "  </thead>\n",
       "  <tbody>\n",
       "    <tr>\n",
       "      <th>478</th>\n",
       "      <td>467</td>\n",
       "      <td>Thaddeus Young</td>\n",
       "      <td>PF</td>\n",
       "      <td>35</td>\n",
       "      <td>TOR</td>\n",
       "      <td>3</td>\n",
       "      <td>0</td>\n",
       "      <td>3.3</td>\n",
       "      <td>0.7</td>\n",
       "      <td>1.3</td>\n",
       "      <td>...</td>\n",
       "      <td>0.000</td>\n",
       "      <td>0.3</td>\n",
       "      <td>0.7</td>\n",
       "      <td>1.0</td>\n",
       "      <td>1.0</td>\n",
       "      <td>0.0</td>\n",
       "      <td>0.0</td>\n",
       "      <td>0.3</td>\n",
       "      <td>0.0</td>\n",
       "      <td>1.3</td>\n",
       "    </tr>\n",
       "    <tr>\n",
       "      <th>479</th>\n",
       "      <td>468</td>\n",
       "      <td>Trae Young</td>\n",
       "      <td>PG</td>\n",
       "      <td>25</td>\n",
       "      <td>ATL</td>\n",
       "      <td>11</td>\n",
       "      <td>11</td>\n",
       "      <td>35.7</td>\n",
       "      <td>6.3</td>\n",
       "      <td>17.6</td>\n",
       "      <td>...</td>\n",
       "      <td>0.898</td>\n",
       "      <td>0.6</td>\n",
       "      <td>2.0</td>\n",
       "      <td>2.6</td>\n",
       "      <td>11.1</td>\n",
       "      <td>1.5</td>\n",
       "      <td>0.0</td>\n",
       "      <td>4.1</td>\n",
       "      <td>1.5</td>\n",
       "      <td>23.4</td>\n",
       "    </tr>\n",
       "    <tr>\n",
       "      <th>480</th>\n",
       "      <td>469</td>\n",
       "      <td>Omer Yurtseven</td>\n",
       "      <td>C</td>\n",
       "      <td>25</td>\n",
       "      <td>UTA</td>\n",
       "      <td>7</td>\n",
       "      <td>0</td>\n",
       "      <td>4.6</td>\n",
       "      <td>1.0</td>\n",
       "      <td>1.4</td>\n",
       "      <td>...</td>\n",
       "      <td>0.500</td>\n",
       "      <td>0.4</td>\n",
       "      <td>1.1</td>\n",
       "      <td>1.6</td>\n",
       "      <td>0.4</td>\n",
       "      <td>0.0</td>\n",
       "      <td>0.1</td>\n",
       "      <td>0.1</td>\n",
       "      <td>0.9</td>\n",
       "      <td>2.3</td>\n",
       "    </tr>\n",
       "    <tr>\n",
       "      <th>481</th>\n",
       "      <td>470</td>\n",
       "      <td>Cody Zeller</td>\n",
       "      <td>C</td>\n",
       "      <td>31</td>\n",
       "      <td>NOP</td>\n",
       "      <td>10</td>\n",
       "      <td>0</td>\n",
       "      <td>6.8</td>\n",
       "      <td>0.3</td>\n",
       "      <td>1.4</td>\n",
       "      <td>...</td>\n",
       "      <td>0.400</td>\n",
       "      <td>1.0</td>\n",
       "      <td>1.8</td>\n",
       "      <td>2.8</td>\n",
       "      <td>0.8</td>\n",
       "      <td>0.2</td>\n",
       "      <td>0.1</td>\n",
       "      <td>0.3</td>\n",
       "      <td>0.8</td>\n",
       "      <td>1.0</td>\n",
       "    </tr>\n",
       "    <tr>\n",
       "      <th>482</th>\n",
       "      <td>471</td>\n",
       "      <td>Ivica Zubac</td>\n",
       "      <td>C</td>\n",
       "      <td>26</td>\n",
       "      <td>LAC</td>\n",
       "      <td>11</td>\n",
       "      <td>11</td>\n",
       "      <td>25.9</td>\n",
       "      <td>4.3</td>\n",
       "      <td>7.3</td>\n",
       "      <td>...</td>\n",
       "      <td>0.600</td>\n",
       "      <td>3.0</td>\n",
       "      <td>5.3</td>\n",
       "      <td>8.3</td>\n",
       "      <td>0.8</td>\n",
       "      <td>0.2</td>\n",
       "      <td>1.6</td>\n",
       "      <td>1.4</td>\n",
       "      <td>3.2</td>\n",
       "      <td>10.5</td>\n",
       "    </tr>\n",
       "  </tbody>\n",
       "</table>\n",
       "<p>5 rows × 30 columns</p>\n",
       "</div>"
      ],
      "text/plain": [
       "      Rk          Player Pos  Age   Tm   G  GS    MP   FG   FGA  ...    FT%  \\\n",
       "478  467  Thaddeus Young  PF   35  TOR   3   0   3.3  0.7   1.3  ...  0.000   \n",
       "479  468      Trae Young  PG   25  ATL  11  11  35.7  6.3  17.6  ...  0.898   \n",
       "480  469  Omer Yurtseven   C   25  UTA   7   0   4.6  1.0   1.4  ...  0.500   \n",
       "481  470     Cody Zeller   C   31  NOP  10   0   6.8  0.3   1.4  ...  0.400   \n",
       "482  471     Ivica Zubac   C   26  LAC  11  11  25.9  4.3   7.3  ...  0.600   \n",
       "\n",
       "     ORB  DRB  TRB   AST  STL  BLK  TOV   PF   PTS  \n",
       "478  0.3  0.7  1.0   1.0  0.0  0.0  0.3  0.0   1.3  \n",
       "479  0.6  2.0  2.6  11.1  1.5  0.0  4.1  1.5  23.4  \n",
       "480  0.4  1.1  1.6   0.4  0.0  0.1  0.1  0.9   2.3  \n",
       "481  1.0  1.8  2.8   0.8  0.2  0.1  0.3  0.8   1.0  \n",
       "482  3.0  5.3  8.3   0.8  0.2  1.6  1.4  3.2  10.5  \n",
       "\n",
       "[5 rows x 30 columns]"
      ]
     },
     "execution_count": 9,
     "metadata": {},
     "output_type": "execute_result"
    }
   ],
   "source": [
    "df.tail()"
   ]
  },
  {
   "cell_type": "code",
   "execution_count": 10,
   "id": "81591fa6-948f-4eb9-9a71-ecccbbf591eb",
   "metadata": {},
   "outputs": [
    {
     "data": {
      "text/html": [
       "<div>\n",
       "<style scoped>\n",
       "    .dataframe tbody tr th:only-of-type {\n",
       "        vertical-align: middle;\n",
       "    }\n",
       "\n",
       "    .dataframe tbody tr th {\n",
       "        vertical-align: top;\n",
       "    }\n",
       "\n",
       "    .dataframe thead th {\n",
       "        text-align: right;\n",
       "    }\n",
       "</style>\n",
       "<table border=\"1\" class=\"dataframe\">\n",
       "  <thead>\n",
       "    <tr style=\"text-align: right;\">\n",
       "      <th></th>\n",
       "      <th>Rk</th>\n",
       "      <th>Age</th>\n",
       "      <th>G</th>\n",
       "      <th>GS</th>\n",
       "      <th>MP</th>\n",
       "      <th>FG</th>\n",
       "      <th>FGA</th>\n",
       "      <th>FG%</th>\n",
       "      <th>3P</th>\n",
       "      <th>3PA</th>\n",
       "      <th>...</th>\n",
       "      <th>FT%</th>\n",
       "      <th>ORB</th>\n",
       "      <th>DRB</th>\n",
       "      <th>TRB</th>\n",
       "      <th>AST</th>\n",
       "      <th>STL</th>\n",
       "      <th>BLK</th>\n",
       "      <th>TOV</th>\n",
       "      <th>PF</th>\n",
       "      <th>PTS</th>\n",
       "    </tr>\n",
       "  </thead>\n",
       "  <tbody>\n",
       "    <tr>\n",
       "      <th>count</th>\n",
       "      <td>483.000000</td>\n",
       "      <td>483.000000</td>\n",
       "      <td>483.000000</td>\n",
       "      <td>483.000000</td>\n",
       "      <td>483.000000</td>\n",
       "      <td>483.000000</td>\n",
       "      <td>483.000000</td>\n",
       "      <td>483.000000</td>\n",
       "      <td>483.000000</td>\n",
       "      <td>483.00000</td>\n",
       "      <td>...</td>\n",
       "      <td>483.000000</td>\n",
       "      <td>483.000000</td>\n",
       "      <td>483.000000</td>\n",
       "      <td>483.000000</td>\n",
       "      <td>483.000000</td>\n",
       "      <td>483.000000</td>\n",
       "      <td>483.000000</td>\n",
       "      <td>483.000000</td>\n",
       "      <td>483.000000</td>\n",
       "      <td>483.000000</td>\n",
       "    </tr>\n",
       "    <tr>\n",
       "      <th>mean</th>\n",
       "      <td>236.472050</td>\n",
       "      <td>26.099379</td>\n",
       "      <td>8.320911</td>\n",
       "      <td>3.830228</td>\n",
       "      <td>18.699793</td>\n",
       "      <td>3.133747</td>\n",
       "      <td>6.764389</td>\n",
       "      <td>0.431329</td>\n",
       "      <td>0.951967</td>\n",
       "      <td>2.68530</td>\n",
       "      <td>...</td>\n",
       "      <td>0.610530</td>\n",
       "      <td>0.850104</td>\n",
       "      <td>2.544720</td>\n",
       "      <td>3.392547</td>\n",
       "      <td>1.957764</td>\n",
       "      <td>0.600828</td>\n",
       "      <td>0.392754</td>\n",
       "      <td>1.048447</td>\n",
       "      <td>1.572671</td>\n",
       "      <td>8.530435</td>\n",
       "    </tr>\n",
       "    <tr>\n",
       "      <th>std</th>\n",
       "      <td>136.449498</td>\n",
       "      <td>4.430943</td>\n",
       "      <td>3.996694</td>\n",
       "      <td>5.013691</td>\n",
       "      <td>10.836910</td>\n",
       "      <td>2.639502</td>\n",
       "      <td>5.400013</td>\n",
       "      <td>0.177420</td>\n",
       "      <td>0.951594</td>\n",
       "      <td>2.37028</td>\n",
       "      <td>...</td>\n",
       "      <td>0.341874</td>\n",
       "      <td>0.869024</td>\n",
       "      <td>1.976351</td>\n",
       "      <td>2.634834</td>\n",
       "      <td>1.965015</td>\n",
       "      <td>0.496334</td>\n",
       "      <td>0.477425</td>\n",
       "      <td>0.957723</td>\n",
       "      <td>0.956675</td>\n",
       "      <td>7.289047</td>\n",
       "    </tr>\n",
       "    <tr>\n",
       "      <th>min</th>\n",
       "      <td>1.000000</td>\n",
       "      <td>19.000000</td>\n",
       "      <td>1.000000</td>\n",
       "      <td>0.000000</td>\n",
       "      <td>0.000000</td>\n",
       "      <td>0.000000</td>\n",
       "      <td>0.000000</td>\n",
       "      <td>0.000000</td>\n",
       "      <td>0.000000</td>\n",
       "      <td>0.00000</td>\n",
       "      <td>...</td>\n",
       "      <td>0.000000</td>\n",
       "      <td>0.000000</td>\n",
       "      <td>0.000000</td>\n",
       "      <td>0.000000</td>\n",
       "      <td>0.000000</td>\n",
       "      <td>0.000000</td>\n",
       "      <td>0.000000</td>\n",
       "      <td>0.000000</td>\n",
       "      <td>0.000000</td>\n",
       "      <td>0.000000</td>\n",
       "    </tr>\n",
       "    <tr>\n",
       "      <th>25%</th>\n",
       "      <td>117.500000</td>\n",
       "      <td>23.000000</td>\n",
       "      <td>5.000000</td>\n",
       "      <td>0.000000</td>\n",
       "      <td>8.850000</td>\n",
       "      <td>1.000000</td>\n",
       "      <td>2.600000</td>\n",
       "      <td>0.378000</td>\n",
       "      <td>0.100000</td>\n",
       "      <td>0.70000</td>\n",
       "      <td>...</td>\n",
       "      <td>0.500000</td>\n",
       "      <td>0.200000</td>\n",
       "      <td>1.000000</td>\n",
       "      <td>1.400000</td>\n",
       "      <td>0.500000</td>\n",
       "      <td>0.200000</td>\n",
       "      <td>0.000000</td>\n",
       "      <td>0.300000</td>\n",
       "      <td>0.800000</td>\n",
       "      <td>2.800000</td>\n",
       "    </tr>\n",
       "    <tr>\n",
       "      <th>50%</th>\n",
       "      <td>238.000000</td>\n",
       "      <td>25.000000</td>\n",
       "      <td>10.000000</td>\n",
       "      <td>0.000000</td>\n",
       "      <td>19.000000</td>\n",
       "      <td>2.500000</td>\n",
       "      <td>5.300000</td>\n",
       "      <td>0.447000</td>\n",
       "      <td>0.700000</td>\n",
       "      <td>2.20000</td>\n",
       "      <td>...</td>\n",
       "      <td>0.739000</td>\n",
       "      <td>0.600000</td>\n",
       "      <td>2.100000</td>\n",
       "      <td>2.900000</td>\n",
       "      <td>1.300000</td>\n",
       "      <td>0.500000</td>\n",
       "      <td>0.300000</td>\n",
       "      <td>0.800000</td>\n",
       "      <td>1.600000</td>\n",
       "      <td>6.600000</td>\n",
       "    </tr>\n",
       "    <tr>\n",
       "      <th>75%</th>\n",
       "      <td>354.500000</td>\n",
       "      <td>29.000000</td>\n",
       "      <td>12.000000</td>\n",
       "      <td>9.000000</td>\n",
       "      <td>28.700000</td>\n",
       "      <td>4.500000</td>\n",
       "      <td>10.000000</td>\n",
       "      <td>0.512500</td>\n",
       "      <td>1.500000</td>\n",
       "      <td>4.15000</td>\n",
       "      <td>...</td>\n",
       "      <td>0.857000</td>\n",
       "      <td>1.200000</td>\n",
       "      <td>3.700000</td>\n",
       "      <td>4.800000</td>\n",
       "      <td>2.900000</td>\n",
       "      <td>0.900000</td>\n",
       "      <td>0.500000</td>\n",
       "      <td>1.500000</td>\n",
       "      <td>2.300000</td>\n",
       "      <td>12.300000</td>\n",
       "    </tr>\n",
       "    <tr>\n",
       "      <th>max</th>\n",
       "      <td>471.000000</td>\n",
       "      <td>39.000000</td>\n",
       "      <td>14.000000</td>\n",
       "      <td>14.000000</td>\n",
       "      <td>38.400000</td>\n",
       "      <td>11.500000</td>\n",
       "      <td>22.700000</td>\n",
       "      <td>1.000000</td>\n",
       "      <td>5.600000</td>\n",
       "      <td>12.50000</td>\n",
       "      <td>...</td>\n",
       "      <td>1.000000</td>\n",
       "      <td>6.000000</td>\n",
       "      <td>10.800000</td>\n",
       "      <td>14.100000</td>\n",
       "      <td>12.500000</td>\n",
       "      <td>2.600000</td>\n",
       "      <td>3.500000</td>\n",
       "      <td>4.900000</td>\n",
       "      <td>4.000000</td>\n",
       "      <td>32.200000</td>\n",
       "    </tr>\n",
       "  </tbody>\n",
       "</table>\n",
       "<p>8 rows × 27 columns</p>\n",
       "</div>"
      ],
      "text/plain": [
       "               Rk         Age           G          GS          MP          FG  \\\n",
       "count  483.000000  483.000000  483.000000  483.000000  483.000000  483.000000   \n",
       "mean   236.472050   26.099379    8.320911    3.830228   18.699793    3.133747   \n",
       "std    136.449498    4.430943    3.996694    5.013691   10.836910    2.639502   \n",
       "min      1.000000   19.000000    1.000000    0.000000    0.000000    0.000000   \n",
       "25%    117.500000   23.000000    5.000000    0.000000    8.850000    1.000000   \n",
       "50%    238.000000   25.000000   10.000000    0.000000   19.000000    2.500000   \n",
       "75%    354.500000   29.000000   12.000000    9.000000   28.700000    4.500000   \n",
       "max    471.000000   39.000000   14.000000   14.000000   38.400000   11.500000   \n",
       "\n",
       "              FGA         FG%          3P        3PA  ...         FT%  \\\n",
       "count  483.000000  483.000000  483.000000  483.00000  ...  483.000000   \n",
       "mean     6.764389    0.431329    0.951967    2.68530  ...    0.610530   \n",
       "std      5.400013    0.177420    0.951594    2.37028  ...    0.341874   \n",
       "min      0.000000    0.000000    0.000000    0.00000  ...    0.000000   \n",
       "25%      2.600000    0.378000    0.100000    0.70000  ...    0.500000   \n",
       "50%      5.300000    0.447000    0.700000    2.20000  ...    0.739000   \n",
       "75%     10.000000    0.512500    1.500000    4.15000  ...    0.857000   \n",
       "max     22.700000    1.000000    5.600000   12.50000  ...    1.000000   \n",
       "\n",
       "              ORB         DRB         TRB         AST         STL         BLK  \\\n",
       "count  483.000000  483.000000  483.000000  483.000000  483.000000  483.000000   \n",
       "mean     0.850104    2.544720    3.392547    1.957764    0.600828    0.392754   \n",
       "std      0.869024    1.976351    2.634834    1.965015    0.496334    0.477425   \n",
       "min      0.000000    0.000000    0.000000    0.000000    0.000000    0.000000   \n",
       "25%      0.200000    1.000000    1.400000    0.500000    0.200000    0.000000   \n",
       "50%      0.600000    2.100000    2.900000    1.300000    0.500000    0.300000   \n",
       "75%      1.200000    3.700000    4.800000    2.900000    0.900000    0.500000   \n",
       "max      6.000000   10.800000   14.100000   12.500000    2.600000    3.500000   \n",
       "\n",
       "              TOV          PF         PTS  \n",
       "count  483.000000  483.000000  483.000000  \n",
       "mean     1.048447    1.572671    8.530435  \n",
       "std      0.957723    0.956675    7.289047  \n",
       "min      0.000000    0.000000    0.000000  \n",
       "25%      0.300000    0.800000    2.800000  \n",
       "50%      0.800000    1.600000    6.600000  \n",
       "75%      1.500000    2.300000   12.300000  \n",
       "max      4.900000    4.000000   32.200000  \n",
       "\n",
       "[8 rows x 27 columns]"
      ]
     },
     "execution_count": 10,
     "metadata": {},
     "output_type": "execute_result"
    }
   ],
   "source": [
    "df.describe()"
   ]
  },
  {
   "cell_type": "code",
   "execution_count": 11,
   "id": "871f56a6-1e17-4c9c-9b40-79674e52e46d",
   "metadata": {},
   "outputs": [
    {
     "name": "stdout",
     "output_type": "stream",
     "text": [
      "<class 'pandas.core.frame.DataFrame'>\n",
      "RangeIndex: 483 entries, 0 to 482\n",
      "Data columns (total 30 columns):\n",
      " #   Column  Non-Null Count  Dtype  \n",
      "---  ------  --------------  -----  \n",
      " 0   Rk      483 non-null    int64  \n",
      " 1   Player  483 non-null    object \n",
      " 2   Pos     483 non-null    object \n",
      " 3   Age     483 non-null    int64  \n",
      " 4   Tm      483 non-null    object \n",
      " 5   G       483 non-null    int64  \n",
      " 6   GS      483 non-null    int64  \n",
      " 7   MP      483 non-null    float64\n",
      " 8   FG      483 non-null    float64\n",
      " 9   FGA     483 non-null    float64\n",
      " 10  FG%     483 non-null    float64\n",
      " 11  3P      483 non-null    float64\n",
      " 12  3PA     483 non-null    float64\n",
      " 13  3P%     483 non-null    float64\n",
      " 14  2P      483 non-null    float64\n",
      " 15  2PA     483 non-null    float64\n",
      " 16  2P%     483 non-null    float64\n",
      " 17  eFG%    483 non-null    float64\n",
      " 18  FT      483 non-null    float64\n",
      " 19  FTA     483 non-null    float64\n",
      " 20  FT%     483 non-null    float64\n",
      " 21  ORB     483 non-null    float64\n",
      " 22  DRB     483 non-null    float64\n",
      " 23  TRB     483 non-null    float64\n",
      " 24  AST     483 non-null    float64\n",
      " 25  STL     483 non-null    float64\n",
      " 26  BLK     483 non-null    float64\n",
      " 27  TOV     483 non-null    float64\n",
      " 28  PF      483 non-null    float64\n",
      " 29  PTS     483 non-null    float64\n",
      "dtypes: float64(23), int64(4), object(3)\n",
      "memory usage: 113.3+ KB\n"
     ]
    }
   ],
   "source": [
    "df.info()"
   ]
  },
  {
   "cell_type": "code",
   "execution_count": 12,
   "id": "8526ba5d-85f9-43ea-a099-fe30200b6b2c",
   "metadata": {},
   "outputs": [
    {
     "name": "stdout",
     "output_type": "stream",
     "text": [
      "        Rk  Player    Pos    Age     Tm      G     GS     MP     FG    FGA  \\\n",
      "0    False   False  False  False  False  False  False  False  False  False   \n",
      "1    False   False  False  False  False  False  False  False  False  False   \n",
      "2    False   False  False  False  False  False  False  False  False  False   \n",
      "3    False   False  False  False  False  False  False  False  False  False   \n",
      "4    False   False  False  False  False  False  False  False  False  False   \n",
      "..     ...     ...    ...    ...    ...    ...    ...    ...    ...    ...   \n",
      "478  False   False  False  False  False  False  False  False  False  False   \n",
      "479  False   False  False  False  False  False  False  False  False  False   \n",
      "480  False   False  False  False  False  False  False  False  False  False   \n",
      "481  False   False  False  False  False  False  False  False  False  False   \n",
      "482  False   False  False  False  False  False  False  False  False  False   \n",
      "\n",
      "     ...    FT%    ORB    DRB    TRB    AST    STL    BLK    TOV     PF    PTS  \n",
      "0    ...  False  False  False  False  False  False  False  False  False  False  \n",
      "1    ...  False  False  False  False  False  False  False  False  False  False  \n",
      "2    ...  False  False  False  False  False  False  False  False  False  False  \n",
      "3    ...  False  False  False  False  False  False  False  False  False  False  \n",
      "4    ...  False  False  False  False  False  False  False  False  False  False  \n",
      "..   ...    ...    ...    ...    ...    ...    ...    ...    ...    ...    ...  \n",
      "478  ...  False  False  False  False  False  False  False  False  False  False  \n",
      "479  ...  False  False  False  False  False  False  False  False  False  False  \n",
      "480  ...  False  False  False  False  False  False  False  False  False  False  \n",
      "481  ...  False  False  False  False  False  False  False  False  False  False  \n",
      "482  ...  False  False  False  False  False  False  False  False  False  False  \n",
      "\n",
      "[483 rows x 30 columns]\n",
      "Duplicate Rows:\n",
      "Empty DataFrame\n",
      "Columns: [Rk, Player, Pos, Age, Tm, G, GS, MP, FG, FGA, FG%, 3P, 3PA, 3P%, 2P, 2PA, 2P%, eFG%, FT, FTA, FT%, ORB, DRB, TRB, AST, STL, BLK, TOV, PF, PTS]\n",
      "Index: []\n",
      "\n",
      "[0 rows x 30 columns]\n"
     ]
    }
   ],
   "source": [
    "missing_data = df.isnull()\n",
    "\n",
    "print(missing_data)\n",
    "duplicates = df.duplicated()\n",
    "\n",
    "# Displaying the duplicate rows\n",
    "print(\"Duplicate Rows:\")\n",
    "print(df[duplicates])\n",
    "\n",
    "# Dropping duplicates\n",
    "df_no_duplicates = df.drop_duplicates()"
   ]
  },
  {
   "cell_type": "code",
   "execution_count": 13,
   "id": "91459d87-4bb2-4326-96b5-e65af5b9200a",
   "metadata": {},
   "outputs": [],
   "source": [
    "df.dropna(thresh=5, inplace=True)\n"
   ]
  },
  {
   "cell_type": "code",
   "execution_count": 14,
   "id": "e1e679d2-0930-4ba8-9c45-ee73aca3b223",
   "metadata": {},
   "outputs": [
    {
     "data": {
      "application/vnd.jupyter.widget-view+json": {
       "model_id": "40832312ff2c44f39f8adbbc14332d7d",
       "version_major": 2,
       "version_minor": 0
      },
      "text/plain": [
       "interactive(children=(Dropdown(description='Position:', options=('All', 'C', 'PF', 'PG', 'SF', 'SF-PF', 'SG'),…"
      ]
     },
     "metadata": {},
     "output_type": "display_data"
    },
    {
     "data": {
      "text/plain": [
       "<function __main__.plot_team_composition(position)>"
      ]
     },
     "execution_count": 14,
     "metadata": {},
     "output_type": "execute_result"
    }
   ],
   "source": [
    "def plot_team_composition(position):\n",
    "    df_filtered = df[df['Pos'] == position] if position != 'All' else df\n",
    "\n",
    "    team_counts = df_filtered['Tm'].value_counts().reset_index()\n",
    "    team_counts.columns = ['Team', 'Number of Players']\n",
    "\n",
    "    fig = px.bar(\n",
    "        team_counts,\n",
    "        x='Team',\n",
    "        y='Number of Players',\n",
    "        title=f'Number of Players per Team - Position: {position}'\n",
    "    )\n",
    "\n",
    "    fig.show()\n",
    "\n",
    "positions = ['All'] + sorted(df['Pos'].unique().tolist())\n",
    "position_dropdown = Dropdown(options=positions, value='All', description='Position:')\n",
    "interact(plot_team_composition, position=position_dropdown)"
   ]
  },
  {
   "cell_type": "code",
   "execution_count": 15,
   "id": "825fbfae-ea88-427c-9dc7-0eac9f5675bd",
   "metadata": {},
   "outputs": [
    {
     "data": {
      "image/png": "[encoded data removed]",
      "text/plain": [
       "<Figure size 1000x600 with 1 Axes>"
      ]
     },
     "metadata": {},
     "output_type": "display_data"
    }
   ],
   "source": [
    "top_5_scorers = df.nlargest(5, 'PTS')['Player']\n",
    "\n",
    "plt.figure(figsize=(10,6))\n",
    "sns.barplot(x=top_5_scorers, y=df.loc[top_5_scorers.index, 'PTS'])\n",
    "plt.title('Top 5 Players with Most Points per Game')\n",
    "plt.xticks(rotation=90)\n",
    "plt.xlabel('Player')\n",
    "plt.ylabel('Points per Game')\n",
    "plt.show()"
   ]
  },
  {
   "cell_type": "code",
   "execution_count": 16,
   "id": "a913a7ef-ac52-4e13-8662-d331a0cd944d",
   "metadata": {},
   "outputs": [
    {
     "data": {
      "image/png": "[encoded data removed]",
      "text/plain": [
       "<Figure size 1000x600 with 1 Axes>"
      ]
     },
     "metadata": {},
     "output_type": "display_data"
    }
   ],
   "source": [
    "top_5_passers = df.nlargest(5, 'AST')['Player']\n",
    "# Bar plot of top 5 scorers\n",
    "plt.figure(figsize=(10,6))\n",
    "sns.barplot(x=top_5_passers, y=df.loc[top_5_passers.index, 'AST'])\n",
    "plt.title('Top 5 Players with Most Assists per Game')\n",
    "plt.xticks(rotation=90)\n",
    "plt.xlabel('Player')\n",
    "plt.ylabel('Assists per Game')\n",
    "plt.show()"
   ]
  },
  {
   "cell_type": "code",
   "execution_count": 17,
   "id": "e52fe87b-83e3-4803-b2d5-edb04ba7d6aa",
   "metadata": {},
   "outputs": [
    {
     "data": {
      "application/vnd.jupyter.widget-view+json": {
       "model_id": "7b85956c5f5a4655a7ce40c6cb1f268a",
       "version_major": 2,
       "version_minor": 0
      },
      "text/plain": [
       "interactive(children=(FloatSlider(value=1.0, description='PTS Weight', max=2.0), FloatSlider(value=1.0, descri…"
      ]
     },
     "metadata": {},
     "output_type": "display_data"
    },
    {
     "data": {
      "text/plain": [
       "<function __main__.plot_top_players(pts_weight, fg_weight, ast_weight, tov_weight)>"
      ]
     },
     "execution_count": 17,
     "metadata": {},
     "output_type": "execute_result"
    }
   ],
   "source": [
    "\n",
    "scaler = MinMaxScaler()\n",
    "df[['PTS_norm', 'FG%_norm', 'AST_norm', 'TOV_norm']] = scaler.fit_transform(df[['PTS', 'FG%', 'AST', 'TOV']])\n",
    "\n",
    "def plot_top_players(pts_weight, fg_weight, ast_weight, tov_weight):\n",
    "    df['CompositeScore'] = (df['PTS_norm'] * pts_weight +\n",
    "                            df['FG%_norm'] * fg_weight +\n",
    "                            df['AST_norm'] * ast_weight -\n",
    "                            df['TOV_norm'] * tov_weight)\n",
    "    top_players = df.sort_values(by='CompositeScore', ascending=False)\n",
    "    print(top_players[['Player', 'CompositeScore']]) \n",
    "\n",
    "\n",
    "    fig = px.scatter_3d(\n",
    "        top_players,\n",
    "        x='AST', y='PTS', z='TOV',\n",
    "        color='CompositeScore',\n",
    "        hover_data=['Player'],\n",
    "        title='Top 30 Players: 3D Plot (Assists, Points, FG%, Turnovers)',\n",
    "        color_continuous_scale=px.colors.diverging.Tealrose, \n",
    "        opacity=0.8  \n",
    "    )\n",
    "\n",
    "    fig.update_layout(\n",
    "        width=800, \n",
    "        height=600, \n",
    "        scene=dict(\n",
    "            xaxis_title='Assists',\n",
    "            yaxis_title='Points',\n",
    "            zaxis_title='Turnovers'\n",
    "        )\n",
    "    )\n",
    "    fig.update_traces(marker=dict(size=5, line=dict(width=2, color='DarkSlateGrey')), selector=dict(mode='markers'))\n",
    "\n",
    "    fig.show()\n",
    "\n",
    "interact(plot_top_players,\n",
    "         pts_weight=FloatSlider(value=1, min=0, max=2, step=0.1, description='PTS Weight'),\n",
    "         fg_weight=FloatSlider(value=1, min=0, max=2, step=0.1, description='FG% Weight'),\n",
    "         ast_weight=FloatSlider(value=1, min=0, max=2, step=0.1, description='AST Weight'),\n",
    "         tov_weight=FloatSlider(value=1, min=0, max=2, step=0.1, description='TOV Weight'))\n"
   ]
  },
  {
   "cell_type": "code",
   "execution_count": 18,
   "id": "e5e34775-49fd-4117-9170-e2f4d748cfa2",
   "metadata": {},
   "outputs": [
    {
     "data": {
      "application/vnd.jupyter.widget-view+json": {
       "model_id": "164138e260054295bc8dac86fcb146ff",
       "version_major": 2,
       "version_minor": 0
      },
      "text/plain": [
       "interactive(children=(FloatSlider(value=1.0, description='TRB Weight', max=2.0), FloatSlider(value=1.0, descri…"
      ]
     },
     "metadata": {},
     "output_type": "display_data"
    },
    {
     "data": {
      "text/plain": [
       "<function __main__.plot_top_players(trb_weight, stl_weight, blk_weight)>"
      ]
     },
     "execution_count": 18,
     "metadata": {},
     "output_type": "execute_result"
    }
   ],
   "source": [
    "\n",
    "scaler = MinMaxScaler()\n",
    "df[['TRB_norm', 'STL_norm', 'BLK_norm']] = scaler.fit_transform(df[['TRB', 'STL', 'BLK']])\n",
    "\n",
    "def plot_top_players(trb_weight, stl_weight, blk_weight):\n",
    "    df['CompositeScore'] = (df['TRB_norm'] * trb_weight +\n",
    "                            df['STL_norm'] * stl_weight +\n",
    "                            df['BLK_norm'] * blk_weight)\n",
    "\n",
    "    print(df[['Player', 'CompositeScore']].sort_values(by='CompositeScore', ascending=False))\n",
    "\n",
    "    top_players = df.sort_values(by='CompositeScore', ascending=False)\n",
    "\n",
    "    fig = px.scatter_3d(\n",
    "        top_players,\n",
    "        x='TRB',\n",
    "        y='STL',\n",
    "        z='BLK',\n",
    "        color='CompositeScore',\n",
    "        hover_data=['Player']\n",
    "    )\n",
    "\n",
    "    fig.update_layout(\n",
    "        title='Top Players Based on Weighted TRB, STL, BLK (3D Plot)',\n",
    "        scene=dict(\n",
    "            xaxis_title='Total Rebounds',\n",
    "            yaxis_title='Steals',\n",
    "            zaxis_title='Blocks'\n",
    "        ),\n",
    "        width=800,  \n",
    "        height=600 \n",
    "    )\n",
    "\n",
    "    fig.show()\n",
    "\n",
    "interact(plot_top_players,\n",
    "         trb_weight=FloatSlider(value=1, min=0, max=2, step=0.1, description='TRB Weight'),\n",
    "         stl_weight=FloatSlider(value=1, min=0, max=2, step=0.1, description='STL Weight'),\n",
    "         blk_weight=FloatSlider(value=1, min=0, max=2, step=0.1, description='BLK Weight'))\n"
   ]
  },
  {
   "cell_type": "code",
   "execution_count": 19,
   "id": "e1433fe4-3618-45db-ad60-fcbdbb298e08",
   "metadata": {},
   "outputs": [
    {
     "data": {
      "application/vnd.plotly.v1+json": {
       "config": {
        "plotlyServerURL": "https://plot.ly"
       },
       "data": [
        {
         "hoverinfo": "text",
         "name": "2-Pointers",
         "text": [
          16.6,
          13,
          20,
          14,
          7.6,
          15,
          19.6,
          16.8,
          13.4,
          21.2,
          19.2,
          12.4,
          15.6,
          11.8,
          13.8,
          14.6,
          12.4,
          13.6,
          10.4,
          17,
          10.8,
          10.2,
          10.4,
          11.4,
          8.4,
          9.4,
          11.6,
          13.6,
          12.2,
          8.4
         ],
         "type": "bar",
         "x": [
          "De'Aaron Fox",
          "Luka Don?i?",
          "Nikola Joki?",
          "Donovan Mitchell",
          "Stephen Curry",
          "Devin Booker",
          "Shai Gilgeous-Alexander",
          "Kevin Durant",
          "Jayson Tatum",
          "Giannis Antetokounmpo",
          "Joel Embiid",
          "Tyrese Maxey",
          "Cam Thomas",
          "Desmond Bane",
          "Anthony Edwards",
          "LeBron James",
          "Kyrie Irving",
          "Kyle Kuzma",
          "Tyrese Haliburton",
          "Brandon Ingram",
          "Tyler Herro",
          "LaMelo Ball",
          "Jalen Brunson",
          "Jaylen Brown",
          "Lauri Markkanen",
          "Paul George",
          "Dejounte Murray",
          "Terry Rozier",
          "Karl-Anthony Towns",
          "CJ McCollum"
         ],
         "y": [
          16.6,
          13,
          20,
          14,
          7.6,
          15,
          19.6,
          16.8,
          13.4,
          21.2,
          19.2,
          12.4,
          15.6,
          11.8,
          13.8,
          14.6,
          12.4,
          13.6,
          10.4,
          17,
          10.8,
          10.2,
          10.4,
          11.4,
          8.4,
          9.4,
          11.6,
          13.6,
          12.2,
          8.4
         ]
        },
        {
         "hoverinfo": "text",
         "name": "3-Pointers",
         "text": [
          9.600000000000001,
          12.600000000000001,
          4.5,
          10.5,
          16.799999999999997,
          9,
          4.199999999999999,
          6.6000000000000005,
          9.899999999999999,
          1.7999999999999998,
          3.3000000000000003,
          9.899999999999999,
          6.300000000000001,
          9.899999999999999,
          7.800000000000001,
          6.8999999999999995,
          8.399999999999999,
          7.199999999999999,
          10.2,
          3.3000000000000003,
          9.3,
          9.899999999999999,
          9.600000000000001,
          8.399999999999999,
          11.100000000000001,
          9.899999999999999,
          6.8999999999999995,
          4.800000000000001,
          6,
          9.600000000000001
         ],
         "type": "bar",
         "x": [
          "De'Aaron Fox",
          "Luka Don?i?",
          "Nikola Joki?",
          "Donovan Mitchell",
          "Stephen Curry",
          "Devin Booker",
          "Shai Gilgeous-Alexander",
          "Kevin Durant",
          "Jayson Tatum",
          "Giannis Antetokounmpo",
          "Joel Embiid",
          "Tyrese Maxey",
          "Cam Thomas",
          "Desmond Bane",
          "Anthony Edwards",
          "LeBron James",
          "Kyrie Irving",
          "Kyle Kuzma",
          "Tyrese Haliburton",
          "Brandon Ingram",
          "Tyler Herro",
          "LaMelo Ball",
          "Jalen Brunson",
          "Jaylen Brown",
          "Lauri Markkanen",
          "Paul George",
          "Dejounte Murray",
          "Terry Rozier",
          "Karl-Anthony Towns",
          "CJ McCollum"
         ],
         "y": [
          9.600000000000001,
          12.600000000000001,
          4.5,
          10.5,
          16.799999999999997,
          9,
          4.199999999999999,
          6.6000000000000005,
          9.899999999999999,
          1.7999999999999998,
          3.3000000000000003,
          9.899999999999999,
          6.300000000000001,
          9.899999999999999,
          7.800000000000001,
          6.8999999999999995,
          8.399999999999999,
          7.199999999999999,
          10.2,
          3.3000000000000003,
          9.3,
          9.899999999999999,
          9.600000000000001,
          8.399999999999999,
          11.100000000000001,
          9.899999999999999,
          6.8999999999999995,
          4.800000000000001,
          6,
          9.600000000000001
         ]
        }
       ],
       "layout": {
        "autosize": true,
        "barmode": "stack",
        "hovermode": "x",
        "template": {
         "data": {
          "bar": [
           {
            "error_x": {
             "color": "#2a3f5f"
            },
            "error_y": {
             "color": "#2a3f5f"
            },
            "marker": {
             "line": {
              "color": "#E5ECF6",
              "width": 0.5
             },
             "pattern": {
              "fillmode": "overlay",
              "size": 10,
              "solidity": 0.2
             }
            },
            "type": "bar"
           }
          ],
          "barpolar": [
           {
            "marker": {
             "line": {
              "color": "#E5ECF6",
              "width": 0.5
             },
             "pattern": {
              "fillmode": "overlay",
              "size": 10,
              "solidity": 0.2
             }
            },
            "type": "barpolar"
           }
          ],
          "carpet": [
           {
            "aaxis": {
             "endlinecolor": "#2a3f5f",
             "gridcolor": "white",
             "linecolor": "white",
             "minorgridcolor": "white",
             "startlinecolor": "#2a3f5f"
            },
            "baxis": {
             "endlinecolor": "#2a3f5f",
             "gridcolor": "white",
             "linecolor": "white",
             "minorgridcolor": "white",
             "startlinecolor": "#2a3f5f"
            },
            "type": "carpet"
           }
          ],
          "choropleth": [
           {
            "colorbar": {
             "outlinewidth": 0,
             "ticks": ""
            },
            "type": "choropleth"
           }
          ],
          "contour": [
           {
            "colorbar": {
             "outlinewidth": 0,
             "ticks": ""
            },
            "colorscale": [
             [
              0,
              "#0d0887"
             ],
             [
              0.1111111111111111,
              "#46039f"
             ],
             [
              0.2222222222222222,
              "#7201a8"
             ],
             [
              0.3333333333333333,
              "#9c179e"
             ],
             [
              0.4444444444444444,
              "#bd3786"
             ],
             [
              0.5555555555555556,
              "#d8576b"
             ],
             [
              0.6666666666666666,
              "#ed7953"
             ],
             [
              0.7777777777777778,
              "#fb9f3a"
             ],
             [
              0.8888888888888888,
              "#fdca26"
             ],
             [
              1,
              "#f0f921"
             ]
            ],
            "type": "contour"
           }
          ],
          "contourcarpet": [
           {
            "colorbar": {
             "outlinewidth": 0,
             "ticks": ""
            },
            "type": "contourcarpet"
           }
          ],
          "heatmap": [
           {
            "colorbar": {
             "outlinewidth": 0,
             "ticks": ""
            },
            "colorscale": [
             [
              0,
              "#0d0887"
             ],
             [
              0.1111111111111111,
              "#46039f"
             ],
             [
              0.2222222222222222,
              "#7201a8"
             ],
             [
              0.3333333333333333,
              "#9c179e"
             ],
             [
              0.4444444444444444,
              "#bd3786"
             ],
             [
              0.5555555555555556,
              "#d8576b"
             ],
             [
              0.6666666666666666,
              "#ed7953"
             ],
             [
              0.7777777777777778,
              "#fb9f3a"
             ],
             [
              0.8888888888888888,
              "#fdca26"
             ],
             [
              1,
              "#f0f921"
             ]
            ],
            "type": "heatmap"
           }
          ],
          "heatmapgl": [
           {
            "colorbar": {
             "outlinewidth": 0,
             "ticks": ""
            },
            "colorscale": [
             [
              0,
              "#0d0887"
             ],
             [
              0.1111111111111111,
              "#46039f"
             ],
             [
              0.2222222222222222,
              "#7201a8"
             ],
             [
              0.3333333333333333,
              "#9c179e"
             ],
             [
              0.4444444444444444,
              "#bd3786"
             ],
             [
              0.5555555555555556,
              "#d8576b"
             ],
             [
              0.6666666666666666,
              "#ed7953"
             ],
             [
              0.7777777777777778,
              "#fb9f3a"
             ],
             [
              0.8888888888888888,
              "#fdca26"
             ],
             [
              1,
              "#f0f921"
             ]
            ],
            "type": "heatmapgl"
           }
          ],
          "histogram": [
           {
            "marker": {
             "pattern": {
              "fillmode": "overlay",
              "size": 10,
              "solidity": 0.2
             }
            },
            "type": "histogram"
           }
          ],
          "histogram2d": [
           {
            "colorbar": {
             "outlinewidth": 0,
             "ticks": ""
            },
            "colorscale": [
             [
              0,
              "#0d0887"
             ],
             [
              0.1111111111111111,
              "#46039f"
             ],
             [
              0.2222222222222222,
              "#7201a8"
             ],
             [
              0.3333333333333333,
              "#9c179e"
             ],
             [
              0.4444444444444444,
              "#bd3786"
             ],
             [
              0.5555555555555556,
              "#d8576b"
             ],
             [
              0.6666666666666666,
              "#ed7953"
             ],
             [
              0.7777777777777778,
              "#fb9f3a"
             ],
             [
              0.8888888888888888,
              "#fdca26"
             ],
             [
              1,
              "#f0f921"
             ]
            ],
            "type": "histogram2d"
           }
          ],
          "histogram2dcontour": [
           {
            "colorbar": {
             "outlinewidth": 0,
             "ticks": ""
            },
            "colorscale": [
             [
              0,
              "#0d0887"
             ],
             [
              0.1111111111111111,
              "#46039f"
             ],
             [
              0.2222222222222222,
              "#7201a8"
             ],
             [
              0.3333333333333333,
              "#9c179e"
             ],
             [
              0.4444444444444444,
              "#bd3786"
             ],
             [
              0.5555555555555556,
              "#d8576b"
             ],
             [
              0.6666666666666666,
              "#ed7953"
             ],
             [
              0.7777777777777778,
              "#fb9f3a"
             ],
             [
              0.8888888888888888,
              "#fdca26"
             ],
             [
              1,
              "#f0f921"
             ]
            ],
            "type": "histogram2dcontour"
           }
          ],
          "mesh3d": [
           {
            "colorbar": {
             "outlinewidth": 0,
             "ticks": ""
            },
            "type": "mesh3d"
           }
          ],
          "parcoords": [
           {
            "line": {
             "colorbar": {
              "outlinewidth": 0,
              "ticks": ""
             }
            },
            "type": "parcoords"
           }
          ],
          "pie": [
           {
            "automargin": true,
            "type": "pie"
           }
          ],
          "scatter": [
           {
            "fillpattern": {
             "fillmode": "overlay",
             "size": 10,
             "solidity": 0.2
            },
            "type": "scatter"
           }
          ],
          "scatter3d": [
           {
            "line": {
             "colorbar": {
              "outlinewidth": 0,
              "ticks": ""
             }
            },
            "marker": {
             "colorbar": {
              "outlinewidth": 0,
              "ticks": ""
             }
            },
            "type": "scatter3d"
           }
          ],
          "scattercarpet": [
           {
            "marker": {
             "colorbar": {
              "outlinewidth": 0,
              "ticks": ""
             }
            },
            "type": "scattercarpet"
           }
          ],
          "scattergeo": [
           {
            "marker": {
             "colorbar": {
              "outlinewidth": 0,
              "ticks": ""
             }
            },
            "type": "scattergeo"
           }
          ],
          "scattergl": [
           {
            "marker": {
             "colorbar": {
              "outlinewidth": 0,
              "ticks": ""
             }
            },
            "type": "scattergl"
           }
          ],
          "scattermapbox": [
           {
            "marker": {
             "colorbar": {
              "outlinewidth": 0,
              "ticks": ""
             }
            },
            "type": "scattermapbox"
           }
          ],
          "scatterpolar": [
           {
            "marker": {
             "colorbar": {
              "outlinewidth": 0,
              "ticks": ""
             }
            },
            "type": "scatterpolar"
           }
          ],
          "scatterpolargl": [
           {
            "marker": {
             "colorbar": {
              "outlinewidth": 0,
              "ticks": ""
             }
            },
            "type": "scatterpolargl"
           }
          ],
          "scatterternary": [
           {
            "marker": {
             "colorbar": {
              "outlinewidth": 0,
              "ticks": ""
             }
            },
            "type": "scatterternary"
           }
          ],
          "surface": [
           {
            "colorbar": {
             "outlinewidth": 0,
             "ticks": ""
            },
            "colorscale": [
             [
              0,
              "#0d0887"
             ],
             [
              0.1111111111111111,
              "#46039f"
             ],
             [
              0.2222222222222222,
              "#7201a8"
             ],
             [
              0.3333333333333333,
              "#9c179e"
             ],
             [
              0.4444444444444444,
              "#bd3786"
             ],
             [
              0.5555555555555556,
              "#d8576b"
             ],
             [
              0.6666666666666666,
              "#ed7953"
             ],
             [
              0.7777777777777778,
              "#fb9f3a"
             ],
             [
              0.8888888888888888,
              "#fdca26"
             ],
             [
              1,
              "#f0f921"
             ]
            ],
            "type": "surface"
           }
          ],
          "table": [
           {
            "cells": {
             "fill": {
              "color": "#EBF0F8"
             },
             "line": {
              "color": "white"
             }
            },
            "header": {
             "fill": {
              "color": "#C8D4E3"
             },
             "line": {
              "color": "white"
             }
            },
            "type": "table"
           }
          ]
         },
         "layout": {
          "annotationdefaults": {
           "arrowcolor": "#2a3f5f",
           "arrowhead": 0,
           "arrowwidth": 1
          },
          "autotypenumbers": "strict",
          "coloraxis": {
           "colorbar": {
            "outlinewidth": 0,
            "ticks": ""
           }
          },
          "colorscale": {
           "diverging": [
            [
             0,
             "#8e0152"
            ],
            [
             0.1,
             "#c51b7d"
            ],
            [
             0.2,
             "#de77ae"
            ],
            [
             0.3,
             "#f1b6da"
            ],
            [
             0.4,
             "#fde0ef"
            ],
            [
             0.5,
             "#f7f7f7"
            ],
            [
             0.6,
             "#e6f5d0"
            ],
            [
             0.7,
             "#b8e186"
            ],
            [
             0.8,
             "#7fbc41"
            ],
            [
             0.9,
             "#4d9221"
            ],
            [
             1,
             "#276419"
            ]
           ],
           "sequential": [
            [
             0,
             "#0d0887"
            ],
            [
             0.1111111111111111,
             "#46039f"
            ],
            [
             0.2222222222222222,
             "#7201a8"
            ],
            [
             0.3333333333333333,
             "#9c179e"
            ],
            [
             0.4444444444444444,
             "#bd3786"
            ],
            [
             0.5555555555555556,
             "#d8576b"
            ],
            [
             0.6666666666666666,
             "#ed7953"
            ],
            [
             0.7777777777777778,
             "#fb9f3a"
            ],
            [
             0.8888888888888888,
             "#fdca26"
            ],
            [
             1,
             "#f0f921"
            ]
           ],
           "sequentialminus": [
            [
             0,
             "#0d0887"
            ],
            [
             0.1111111111111111,
             "#46039f"
            ],
            [
             0.2222222222222222,
             "#7201a8"
            ],
            [
             0.3333333333333333,
             "#9c179e"
            ],
            [
             0.4444444444444444,
             "#bd3786"
            ],
            [
             0.5555555555555556,
             "#d8576b"
            ],
            [
             0.6666666666666666,
             "#ed7953"
            ],
            [
             0.7777777777777778,
             "#fb9f3a"
            ],
            [
             0.8888888888888888,
             "#fdca26"
            ],
            [
             1,
             "#f0f921"
            ]
           ]
          },
          "colorway": [
           "#636efa",
           "#EF553B",
           "#00cc96",
           "#ab63fa",
           "#FFA15A",
           "#19d3f3",
           "#FF6692",
           "#B6E880",
           "#FF97FF",
           "#FECB52"
          ],
          "font": {
           "color": "#2a3f5f"
          },
          "geo": {
           "bgcolor": "white",
           "lakecolor": "white",
           "landcolor": "#E5ECF6",
           "showlakes": true,
           "showland": true,
           "subunitcolor": "white"
          },
          "hoverlabel": {
           "align": "left"
          },
          "hovermode": "closest",
          "mapbox": {
           "style": "light"
          },
          "paper_bgcolor": "white",
          "plot_bgcolor": "#E5ECF6",
          "polar": {
           "angularaxis": {
            "gridcolor": "white",
            "linecolor": "white",
            "ticks": ""
           },
           "bgcolor": "#E5ECF6",
           "radialaxis": {
            "gridcolor": "white",
            "linecolor": "white",
            "ticks": ""
           }
          },
          "scene": {
           "xaxis": {
            "backgroundcolor": "#E5ECF6",
            "gridcolor": "white",
            "gridwidth": 2,
            "linecolor": "white",
            "showbackground": true,
            "ticks": "",
            "zerolinecolor": "white"
           },
           "yaxis": {
            "backgroundcolor": "#E5ECF6",
            "gridcolor": "white",
            "gridwidth": 2,
            "linecolor": "white",
            "showbackground": true,
            "ticks": "",
            "zerolinecolor": "white"
           },
           "zaxis": {
            "backgroundcolor": "#E5ECF6",
            "gridcolor": "white",
            "gridwidth": 2,
            "linecolor": "white",
            "showbackground": true,
            "ticks": "",
            "zerolinecolor": "white"
           }
          },
          "shapedefaults": {
           "line": {
            "color": "#2a3f5f"
           }
          },
          "ternary": {
           "aaxis": {
            "gridcolor": "white",
            "linecolor": "white",
            "ticks": ""
           },
           "baxis": {
            "gridcolor": "white",
            "linecolor": "white",
            "ticks": ""
           },
           "bgcolor": "#E5ECF6",
           "caxis": {
            "gridcolor": "white",
            "linecolor": "white",
            "ticks": ""
           }
          },
          "title": {
           "x": 0.05
          },
          "xaxis": {
           "automargin": true,
           "gridcolor": "white",
           "linecolor": "white",
           "ticks": "",
           "title": {
            "standoff": 15
           },
           "zerolinecolor": "white",
           "zerolinewidth": 2
          },
          "yaxis": {
           "automargin": true,
           "gridcolor": "white",
           "linecolor": "white",
           "ticks": "",
           "title": {
            "standoff": 15
           },
           "zerolinecolor": "white",
           "zerolinewidth": 2
          }
         }
        },
        "title": {
         "text": "Top 30 Scorers: Breakdown by 2-Pointers and 3-Pointers"
        },
        "xaxis": {
         "autorange": true,
         "range": [
          -0.5,
          29.5
         ],
         "title": {
          "text": "Player/Team"
         },
         "type": "category"
        },
        "yaxis": {
         "autorange": true,
         "range": [
          0,
          27.578947368421055
         ],
         "title": {
          "text": "Total Points"
         },
         "type": "linear"
        }
       }
      },
      "image/png": "[encoded data removed]",
      "text/html": [
       "<div>                            <div id=\"868741ca-6c06-4b7d-8ae7-00130541ec19\" class=\"plotly-graph-div\" style=\"height:525px; width:100%;\"></div>            <script type=\"text/javascript\">                require([\"plotly\"], function(Plotly) {                    window.PLOTLYENV=window.PLOTLYENV || {};                                    if (document.getElementById(\"868741ca-6c06-4b7d-8ae7-00130541ec19\")) {                    Plotly.newPlot(                        \"868741ca-6c06-4b7d-8ae7-00130541ec19\",                        [{\"hoverinfo\":\"text\",\"name\":\"2-Pointers\",\"text\":[16.6,13.0,20.0,14.0,7.6,15.0,19.6,16.8,13.4,21.2,19.2,12.4,15.6,11.8,13.8,14.6,12.4,13.6,10.4,17.0,10.8,10.2,10.4,11.4,8.4,9.4,11.6,13.6,12.2,8.4],\"x\":[\"De'Aaron Fox\",\"Luka Don?i?\",\"Nikola Joki?\",\"Donovan Mitchell\",\"Stephen Curry\",\"Devin Booker\",\"Shai Gilgeous-Alexander\",\"Kevin Durant\",\"Jayson Tatum\",\"Giannis Antetokounmpo\",\"Joel Embiid\",\"Tyrese Maxey\",\"Cam Thomas\",\"Desmond Bane\",\"Anthony Edwards\",\"LeBron James\",\"Kyrie Irving\",\"Kyle Kuzma\",\"Tyrese Haliburton\",\"Brandon Ingram\",\"Tyler Herro\",\"LaMelo Ball\",\"Jalen Brunson\",\"Jaylen Brown\",\"Lauri Markkanen\",\"Paul George\",\"Dejounte Murray\",\"Terry Rozier\",\"Karl-Anthony Towns\",\"CJ McCollum\"],\"y\":[16.6,13.0,20.0,14.0,7.6,15.0,19.6,16.8,13.4,21.2,19.2,12.4,15.6,11.8,13.8,14.6,12.4,13.6,10.4,17.0,10.8,10.2,10.4,11.4,8.4,9.4,11.6,13.6,12.2,8.4],\"type\":\"bar\"},{\"hoverinfo\":\"text\",\"name\":\"3-Pointers\",\"text\":[9.600000000000001,12.600000000000001,4.5,10.5,16.799999999999997,9.0,4.199999999999999,6.6000000000000005,9.899999999999999,1.7999999999999998,3.3000000000000003,9.899999999999999,6.300000000000001,9.899999999999999,7.800000000000001,6.8999999999999995,8.399999999999999,7.199999999999999,10.2,3.3000000000000003,9.3,9.899999999999999,9.600000000000001,8.399999999999999,11.100000000000001,9.899999999999999,6.8999999999999995,4.800000000000001,6.0,9.600000000000001],\"x\":[\"De'Aaron Fox\",\"Luka Don?i?\",\"Nikola Joki?\",\"Donovan Mitchell\",\"Stephen Curry\",\"Devin Booker\",\"Shai Gilgeous-Alexander\",\"Kevin Durant\",\"Jayson Tatum\",\"Giannis Antetokounmpo\",\"Joel Embiid\",\"Tyrese Maxey\",\"Cam Thomas\",\"Desmond Bane\",\"Anthony Edwards\",\"LeBron James\",\"Kyrie Irving\",\"Kyle Kuzma\",\"Tyrese Haliburton\",\"Brandon Ingram\",\"Tyler Herro\",\"LaMelo Ball\",\"Jalen Brunson\",\"Jaylen Brown\",\"Lauri Markkanen\",\"Paul George\",\"Dejounte Murray\",\"Terry Rozier\",\"Karl-Anthony Towns\",\"CJ McCollum\"],\"y\":[9.600000000000001,12.600000000000001,4.5,10.5,16.799999999999997,9.0,4.199999999999999,6.6000000000000005,9.899999999999999,1.7999999999999998,3.3000000000000003,9.899999999999999,6.300000000000001,9.899999999999999,7.800000000000001,6.8999999999999995,8.399999999999999,7.199999999999999,10.2,3.3000000000000003,9.3,9.899999999999999,9.600000000000001,8.399999999999999,11.100000000000001,9.899999999999999,6.8999999999999995,4.800000000000001,6.0,9.600000000000001],\"type\":\"bar\"}],                        {\"template\":{\"data\":{\"histogram2dcontour\":[{\"type\":\"histogram2dcontour\",\"colorbar\":{\"outlinewidth\":0,\"ticks\":\"\"},\"colorscale\":[[0.0,\"#0d0887\"],[0.1111111111111111,\"#46039f\"],[0.2222222222222222,\"#7201a8\"],[0.3333333333333333,\"#9c179e\"],[0.4444444444444444,\"#bd3786\"],[0.5555555555555556,\"#d8576b\"],[0.6666666666666666,\"#ed7953\"],[0.7777777777777778,\"#fb9f3a\"],[0.8888888888888888,\"#fdca26\"],[1.0,\"#f0f921\"]]}],\"choropleth\":[{\"type\":\"choropleth\",\"colorbar\":{\"outlinewidth\":0,\"ticks\":\"\"}}],\"histogram2d\":[{\"type\":\"histogram2d\",\"colorbar\":{\"outlinewidth\":0,\"ticks\":\"\"},\"colorscale\":[[0.0,\"#0d0887\"],[0.1111111111111111,\"#46039f\"],[0.2222222222222222,\"#7201a8\"],[0.3333333333333333,\"#9c179e\"],[0.4444444444444444,\"#bd3786\"],[0.5555555555555556,\"#d8576b\"],[0.6666666666666666,\"#ed7953\"],[0.7777777777777778,\"#fb9f3a\"],[0.8888888888888888,\"#fdca26\"],[1.0,\"#f0f921\"]]}],\"heatmap\":[{\"type\":\"heatmap\",\"colorbar\":{\"outlinewidth\":0,\"ticks\":\"\"},\"colorscale\":[[0.0,\"#0d0887\"],[0.1111111111111111,\"#46039f\"],[0.2222222222222222,\"#7201a8\"],[0.3333333333333333,\"#9c179e\"],[0.4444444444444444,\"#bd3786\"],[0.5555555555555556,\"#d8576b\"],[0.6666666666666666,\"#ed7953\"],[0.7777777777777778,\"#fb9f3a\"],[0.8888888888888888,\"#fdca26\"],[1.0,\"#f0f921\"]]}],\"heatmapgl\":[{\"type\":\"heatmapgl\",\"colorbar\":{\"outlinewidth\":0,\"ticks\":\"\"},\"colorscale\":[[0.0,\"#0d0887\"],[0.1111111111111111,\"#46039f\"],[0.2222222222222222,\"#7201a8\"],[0.3333333333333333,\"#9c179e\"],[0.4444444444444444,\"#bd3786\"],[0.5555555555555556,\"#d8576b\"],[0.6666666666666666,\"#ed7953\"],[0.7777777777777778,\"#fb9f3a\"],[0.8888888888888888,\"#fdca26\"],[1.0,\"#f0f921\"]]}],\"contourcarpet\":[{\"type\":\"contourcarpet\",\"colorbar\":{\"outlinewidth\":0,\"ticks\":\"\"}}],\"contour\":[{\"type\":\"contour\",\"colorbar\":{\"outlinewidth\":0,\"ticks\":\"\"},\"colorscale\":[[0.0,\"#0d0887\"],[0.1111111111111111,\"#46039f\"],[0.2222222222222222,\"#7201a8\"],[0.3333333333333333,\"#9c179e\"],[0.4444444444444444,\"#bd3786\"],[0.5555555555555556,\"#d8576b\"],[0.6666666666666666,\"#ed7953\"],[0.7777777777777778,\"#fb9f3a\"],[0.8888888888888888,\"#fdca26\"],[1.0,\"#f0f921\"]]}],\"surface\":[{\"type\":\"surface\",\"colorbar\":{\"outlinewidth\":0,\"ticks\":\"\"},\"colorscale\":[[0.0,\"#0d0887\"],[0.1111111111111111,\"#46039f\"],[0.2222222222222222,\"#7201a8\"],[0.3333333333333333,\"#9c179e\"],[0.4444444444444444,\"#bd3786\"],[0.5555555555555556,\"#d8576b\"],[0.6666666666666666,\"#ed7953\"],[0.7777777777777778,\"#fb9f3a\"],[0.8888888888888888,\"#fdca26\"],[1.0,\"#f0f921\"]]}],\"mesh3d\":[{\"type\":\"mesh3d\",\"colorbar\":{\"outlinewidth\":0,\"ticks\":\"\"}}],\"scatter\":[{\"fillpattern\":{\"fillmode\":\"overlay\",\"size\":10,\"solidity\":0.2},\"type\":\"scatter\"}],\"parcoords\":[{\"type\":\"parcoords\",\"line\":{\"colorbar\":{\"outlinewidth\":0,\"ticks\":\"\"}}}],\"scatterpolargl\":[{\"type\":\"scatterpolargl\",\"marker\":{\"colorbar\":{\"outlinewidth\":0,\"ticks\":\"\"}}}],\"bar\":[{\"error_x\":{\"color\":\"#2a3f5f\"},\"error_y\":{\"color\":\"#2a3f5f\"},\"marker\":{\"line\":{\"color\":\"#E5ECF6\",\"width\":0.5},\"pattern\":{\"fillmode\":\"overlay\",\"size\":10,\"solidity\":0.2}},\"type\":\"bar\"}],\"scattergeo\":[{\"type\":\"scattergeo\",\"marker\":{\"colorbar\":{\"outlinewidth\":0,\"ticks\":\"\"}}}],\"scatterpolar\":[{\"type\":\"scatterpolar\",\"marker\":{\"colorbar\":{\"outlinewidth\":0,\"ticks\":\"\"}}}],\"histogram\":[{\"marker\":{\"pattern\":{\"fillmode\":\"overlay\",\"size\":10,\"solidity\":0.2}},\"type\":\"histogram\"}],\"scattergl\":[{\"type\":\"scattergl\",\"marker\":{\"colorbar\":{\"outlinewidth\":0,\"ticks\":\"\"}}}],\"scatter3d\":[{\"type\":\"scatter3d\",\"line\":{\"colorbar\":{\"outlinewidth\":0,\"ticks\":\"\"}},\"marker\":{\"colorbar\":{\"outlinewidth\":0,\"ticks\":\"\"}}}],\"scattermapbox\":[{\"type\":\"scattermapbox\",\"marker\":{\"colorbar\":{\"outlinewidth\":0,\"ticks\":\"\"}}}],\"scatterternary\":[{\"type\":\"scatterternary\",\"marker\":{\"colorbar\":{\"outlinewidth\":0,\"ticks\":\"\"}}}],\"scattercarpet\":[{\"type\":\"scattercarpet\",\"marker\":{\"colorbar\":{\"outlinewidth\":0,\"ticks\":\"\"}}}],\"carpet\":[{\"aaxis\":{\"endlinecolor\":\"#2a3f5f\",\"gridcolor\":\"white\",\"linecolor\":\"white\",\"minorgridcolor\":\"white\",\"startlinecolor\":\"#2a3f5f\"},\"baxis\":{\"endlinecolor\":\"#2a3f5f\",\"gridcolor\":\"white\",\"linecolor\":\"white\",\"minorgridcolor\":\"white\",\"startlinecolor\":\"#2a3f5f\"},\"type\":\"carpet\"}],\"table\":[{\"cells\":{\"fill\":{\"color\":\"#EBF0F8\"},\"line\":{\"color\":\"white\"}},\"header\":{\"fill\":{\"color\":\"#C8D4E3\"},\"line\":{\"color\":\"white\"}},\"type\":\"table\"}],\"barpolar\":[{\"marker\":{\"line\":{\"color\":\"#E5ECF6\",\"width\":0.5},\"pattern\":{\"fillmode\":\"overlay\",\"size\":10,\"solidity\":0.2}},\"type\":\"barpolar\"}],\"pie\":[{\"automargin\":true,\"type\":\"pie\"}]},\"layout\":{\"autotypenumbers\":\"strict\",\"colorway\":[\"#636efa\",\"#EF553B\",\"#00cc96\",\"#ab63fa\",\"#FFA15A\",\"#19d3f3\",\"#FF6692\",\"#B6E880\",\"#FF97FF\",\"#FECB52\"],\"font\":{\"color\":\"#2a3f5f\"},\"hovermode\":\"closest\",\"hoverlabel\":{\"align\":\"left\"},\"paper_bgcolor\":\"white\",\"plot_bgcolor\":\"#E5ECF6\",\"polar\":{\"bgcolor\":\"#E5ECF6\",\"angularaxis\":{\"gridcolor\":\"white\",\"linecolor\":\"white\",\"ticks\":\"\"},\"radialaxis\":{\"gridcolor\":\"white\",\"linecolor\":\"white\",\"ticks\":\"\"}},\"ternary\":{\"bgcolor\":\"#E5ECF6\",\"aaxis\":{\"gridcolor\":\"white\",\"linecolor\":\"white\",\"ticks\":\"\"},\"baxis\":{\"gridcolor\":\"white\",\"linecolor\":\"white\",\"ticks\":\"\"},\"caxis\":{\"gridcolor\":\"white\",\"linecolor\":\"white\",\"ticks\":\"\"}},\"coloraxis\":{\"colorbar\":{\"outlinewidth\":0,\"ticks\":\"\"}},\"colorscale\":{\"sequential\":[[0.0,\"#0d0887\"],[0.1111111111111111,\"#46039f\"],[0.2222222222222222,\"#7201a8\"],[0.3333333333333333,\"#9c179e\"],[0.4444444444444444,\"#bd3786\"],[0.5555555555555556,\"#d8576b\"],[0.6666666666666666,\"#ed7953\"],[0.7777777777777778,\"#fb9f3a\"],[0.8888888888888888,\"#fdca26\"],[1.0,\"#f0f921\"]],\"sequentialminus\":[[0.0,\"#0d0887\"],[0.1111111111111111,\"#46039f\"],[0.2222222222222222,\"#7201a8\"],[0.3333333333333333,\"#9c179e\"],[0.4444444444444444,\"#bd3786\"],[0.5555555555555556,\"#d8576b\"],[0.6666666666666666,\"#ed7953\"],[0.7777777777777778,\"#fb9f3a\"],[0.8888888888888888,\"#fdca26\"],[1.0,\"#f0f921\"]],\"diverging\":[[0,\"#8e0152\"],[0.1,\"#c51b7d\"],[0.2,\"#de77ae\"],[0.3,\"#f1b6da\"],[0.4,\"#fde0ef\"],[0.5,\"#f7f7f7\"],[0.6,\"#e6f5d0\"],[0.7,\"#b8e186\"],[0.8,\"#7fbc41\"],[0.9,\"#4d9221\"],[1,\"#276419\"]]},\"xaxis\":{\"gridcolor\":\"white\",\"linecolor\":\"white\",\"ticks\":\"\",\"title\":{\"standoff\":15},\"zerolinecolor\":\"white\",\"automargin\":true,\"zerolinewidth\":2},\"yaxis\":{\"gridcolor\":\"white\",\"linecolor\":\"white\",\"ticks\":\"\",\"title\":{\"standoff\":15},\"zerolinecolor\":\"white\",\"automargin\":true,\"zerolinewidth\":2},\"scene\":{\"xaxis\":{\"backgroundcolor\":\"#E5ECF6\",\"gridcolor\":\"white\",\"linecolor\":\"white\",\"showbackground\":true,\"ticks\":\"\",\"zerolinecolor\":\"white\",\"gridwidth\":2},\"yaxis\":{\"backgroundcolor\":\"#E5ECF6\",\"gridcolor\":\"white\",\"linecolor\":\"white\",\"showbackground\":true,\"ticks\":\"\",\"zerolinecolor\":\"white\",\"gridwidth\":2},\"zaxis\":{\"backgroundcolor\":\"#E5ECF6\",\"gridcolor\":\"white\",\"linecolor\":\"white\",\"showbackground\":true,\"ticks\":\"\",\"zerolinecolor\":\"white\",\"gridwidth\":2}},\"shapedefaults\":{\"line\":{\"color\":\"#2a3f5f\"}},\"annotationdefaults\":{\"arrowcolor\":\"#2a3f5f\",\"arrowhead\":0,\"arrowwidth\":1},\"geo\":{\"bgcolor\":\"white\",\"landcolor\":\"#E5ECF6\",\"subunitcolor\":\"white\",\"showland\":true,\"showlakes\":true,\"lakecolor\":\"white\"},\"title\":{\"x\":0.05},\"mapbox\":{\"style\":\"light\"}}},\"barmode\":\"stack\",\"title\":{\"text\":\"Top 30 Scorers: Breakdown by 2-Pointers and 3-Pointers\"},\"xaxis\":{\"title\":{\"text\":\"Player\\u002fTeam\"}},\"yaxis\":{\"title\":{\"text\":\"Total Points\"}},\"hovermode\":\"x\"},                        {\"responsive\": true}                    ).then(function(){\n",
       "                            \n",
       "var gd = document.getElementById('868741ca-6c06-4b7d-8ae7-00130541ec19');\n",
       "var x = new MutationObserver(function (mutations, observer) {{\n",
       "        var display = window.getComputedStyle(gd).display;\n",
       "        if (!display || display === 'none') {{\n",
       "            console.log([gd, 'removed!']);\n",
       "            Plotly.purge(gd);\n",
       "            observer.disconnect();\n",
       "        }}\n",
       "}});\n",
       "\n",
       "// Listen for the removal of the full notebook cells\n",
       "var notebookContainer = gd.closest('#notebook-container');\n",
       "if (notebookContainer) {{\n",
       "    x.observe(notebookContainer, {childList: true});\n",
       "}}\n",
       "\n",
       "// Listen for the clearing of the current output cell\n",
       "var outputEl = gd.closest('.output');\n",
       "if (outputEl) {{\n",
       "    x.observe(outputEl, {childList: true});\n",
       "}}\n",
       "\n",
       "                        })                };                });            </script>        </div>"
      ]
     },
     "metadata": {},
     "output_type": "display_data"
    }
   ],
   "source": [
    "import plotly.graph_objects as go\n",
    "\n",
    "df['2P_points'] = df['2P'] * 2\n",
    "df['3P_points'] = df['3P'] * 3\n",
    "df['Total_points'] = df['2P_points'] + df['3P_points']\n",
    "\n",
    "top_scorers = df.sort_values('Total_points', ascending=False).head(30)\n",
    "\n",
    "fig = go.Figure()\n",
    "\n",
    "fig.add_trace(go.Bar(\n",
    "    x=top_scorers['Player'], \n",
    "    y=top_scorers['2P_points'],\n",
    "    name='2-Pointers',\n",
    "    hoverinfo='text',\n",
    "    text=top_scorers['2P_points'],\n",
    "))\n",
    "\n",
    "fig.add_trace(go.Bar(\n",
    "    x=top_scorers['Player'],  \n",
    "    y=top_scorers['3P_points'],\n",
    "    name='3-Pointers',\n",
    "    hoverinfo='text',\n",
    "    text=top_scorers['3P_points'],\n",
    "))\n",
    "\n",
    "fig.update_layout(\n",
    "    barmode='stack',\n",
    "    title='Top 30 Scorers: Breakdown by 2-Pointers and 3-Pointers',\n",
    "    xaxis_title='Player/Team',\n",
    "    yaxis_title='Total Points',\n",
    "    hovermode='x'\n",
    ")\n",
    "\n",
    "fig.show()\n"
   ]
  },
  {
   "cell_type": "code",
   "execution_count": 20,
   "id": "b7700d90-a654-4c11-935d-9e38a48208bd",
   "metadata": {},
   "outputs": [
    {
     "data": {
      "application/vnd.jupyter.widget-view+json": {
       "model_id": "46121caefdaf489587cb7ad6f57911ee",
       "version_major": 2,
       "version_minor": 0
      },
      "text/plain": [
       "interactive(children=(FloatSlider(value=1.0, description='PTS Weight', max=2.0), FloatSlider(value=1.0, descri…"
      ]
     },
     "metadata": {},
     "output_type": "display_data"
    },
    {
     "data": {
      "text/plain": [
       "<function __main__.plot_players(pts_weight, ast_weight, fg_weight, tov_weight, blk_weight, stl_weight, trb_weight)>"
      ]
     },
     "execution_count": 20,
     "metadata": {},
     "output_type": "execute_result"
    }
   ],
   "source": [
    "\n",
    "scaler = MinMaxScaler()\n",
    "normalized_columns = ['PTS', 'AST', 'FG%', 'TOV', 'BLK', 'STL', 'TRB']\n",
    "df[normalized_columns] = scaler.fit_transform(df[normalized_columns])\n",
    "\n",
    "team_to_city = {\n",
    "    'TOR': {'lat': 43.7, 'lon': -79.4},   # Toronto Raptors\n",
    "    'MIA': {'lat': 25.8, 'lon': -80.2},   # Miami Heat\n",
    "    'UTA': {'lat': 40.8, 'lon': -111.9},  # Utah Jazz\n",
    "    'MEM': {'lat': 35.1, 'lon': -90.0},   # Memphis Grizzlies\n",
    "    'MIN': {'lat': 44.9, 'lon': -93.2},   # Minnesota Timberwolves\n",
    "    'PHO': {'lat': 33.4, 'lon': -112.0},  # Phoenix Suns\n",
    "    'CLE': {'lat': 41.5, 'lon': -81.7},   # Cleveland Cavaliers\n",
    "    'MIL': {'lat': 43.0, 'lon': -87.9},   # Milwaukee Bucks\n",
    "    'ORL': {'lat': 28.5, 'lon': -81.4},   # Orlando Magic\n",
    "    'NYK': {'lat': 40.7, 'lon': -74.0},   # New York Knicks\n",
    "    'WAS': {'lat': 38.9, 'lon': -77.0},   # Washington Wizards\n",
    "    'POR': {'lat': 45.5, 'lon': -122.7},  # Portland Trail Blazers\n",
    "    'DET': {'lat': 42.3, 'lon': -83.0},   # Detroit Pistons\n",
    "    'CHO': {'lat': 35.2, 'lon': -80.8},   # Charlotte Hornets\n",
    "    'PHI': {'lat': 39.9, 'lon': -75.2},   # Philadelphia 76ers\n",
    "    'BOS': {'lat': 42.3, 'lon': -71.1},   # Boston Celtics\n",
    "    'SAS': {'lat': 29.4, 'lon': -98.5},   # San Antonio Spurs\n",
    "    'SAC': {'lat': 38.5, 'lon': -121.5},  # Sacramento Kings\n",
    "    'TOT': {'lat': 43.7, 'lon': -79.4},   # Placeholder for traded players\n",
    "    'LAC': {'lat': 34.0, 'lon': -118.3},  # LA Clippers\n",
    "    'OKC': {'lat': 35.5, 'lon': -97.5},   # Oklahoma City Thunder\n",
    "    'ATL': {'lat': 33.7, 'lon': -84.4},   # Atlanta Hawks\n",
    "    'CHI': {'lat': 41.8, 'lon': -87.6},   # Chicago Bulls\n",
    "    'DEN': {'lat': 39.7, 'lon': -105.0},  # Denver Nuggets\n",
    "    'BRK': {'lat': 40.7, 'lon': -74.0},   # Brooklyn Nets\n",
    "    'HOU': {'lat': 29.7, 'lon': -95.4},   # Houston Rockets\n",
    "    'IND': {'lat': 39.8, 'lon': -86.2},   # Indiana Pacers\n",
    "    'LAL': {'lat': 34.0, 'lon': -118.3},  # Los Angeles Lakers\n",
    "    'DAL': {'lat': 32.8, 'lon': -96.8},   # Dallas Mavericks\n",
    "    'GSW': {'lat': 37.8, 'lon': -122.4},  # Golden State Warriors\n",
    "    'NOP': {'lat': 29.9, 'lon': -90.1}    # New Orleans Pelicans\n",
    "}\n",
    "# Function to update plot based on slider values\n",
    "def plot_players(pts_weight, ast_weight, fg_weight, tov_weight, blk_weight, stl_weight, trb_weight):\n",
    "    # Recalculate composite score inside the function\n",
    "    df['CompositeScore'] = (df['PTS'] * pts_weight +\n",
    "                            df['AST'] * ast_weight +\n",
    "                            df['FG%'] * fg_weight -\n",
    "                            df['TOV'] * tov_weight +\n",
    "                            df['BLK'] * blk_weight +\n",
    "                            df['STL'] * stl_weight +\n",
    "                            df['TRB'] * trb_weight)\n",
    "\n",
    "    # Filter the top players\n",
    "    top_players = df.sort_values(by='CompositeScore', ascending=True)\n",
    "    print(top_players[['Player', 'CompositeScore']]) \n",
    "\n",
    "    # Add team city coordinates to the DataFrame\n",
    "    top_players['lat'] = top_players['Tm'].map(lambda x: team_to_city.get(x, {}).get('lat', None))\n",
    "    top_players['lon'] = top_players['Tm'].map(lambda x: team_to_city.get(x, {}).get('lon', None))\n",
    "\n",
    "    # Create the plot\n",
    "    fig = px.scatter_geo(\n",
    "        top_players,\n",
    "        lat='lat',\n",
    "        lon='lon',\n",
    "        color='CompositeScore',\n",
    "        hover_name='Player',\n",
    "        hover_data=['CompositeScore'],\n",
    "        title='NBA Players Composite Score by Team City',\n",
    "        scope='usa'\n",
    "    )\n",
    "    fig.show()\n",
    "\n",
    "interact(plot_players,\n",
    "         pts_weight=FloatSlider(value=1, min=0, max=2, step=0.1, description='PTS Weight', continuous_update=True),\n",
    "         ast_weight=FloatSlider(value=1, min=0, max=2, step=0.1, description='AST Weight', continuous_update=True),\n",
    "         fg_weight=FloatSlider(value=1, min=0, max=2, step=0.1, description='FG% Weight', continuous_update=True),\n",
    "         tov_weight=FloatSlider(value=1, min=0, max=2, step=0.1, description='TOV Weight', continuous_update=True),\n",
    "         blk_weight=FloatSlider(value=1, min=0, max=2, step=0.1, description='BLK Weight', continuous_update=True),\n",
    "         stl_weight=FloatSlider(value=1, min=0, max=2, step=0.1, description='STL Weight', continuous_update=True),\n",
    "         trb_weight=FloatSlider(value=1, min=0, max=2, step=0.1, description='TRB Weight', continuous_update=True))\n",
    "\n"
   ]
  },
  {
   "cell_type": "code",
   "execution_count": null,
   "id": "a99d776d-a949-4398-badd-9defb42a5a1a",
   "metadata": {},
   "outputs": [],
   "source": []
  },
  {
   "cell_type": "code",
   "execution_count": null,
   "id": "0a15c175-330c-4888-ad80-450febd5ae99",
   "metadata": {},
   "outputs": [],
   "source": []
  }
 ],
 "metadata": {
  "kernelspec": {
   "display_name": "Python 3 (ipykernel)",
   "language": "python",
   "name": "python3"
  },
  "language_info": {
   "codemirror_mode": {
    "name": "ipython",
    "version": 3
   },
   "file_extension": ".py",
   "mimetype": "text/x-python",
   "name": "python",
   "nbconvert_exporter": "python",
   "pygments_lexer": "ipython3",
   "version": "3.11.0"
  }
 },
 "nbformat": 4,
 "nbformat_minor": 5
}
